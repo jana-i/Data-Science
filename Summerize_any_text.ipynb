{
  "nbformat": 4,
  "nbformat_minor": 0,
  "metadata": {
    "colab": {
      "provenance": [],
      "authorship_tag": "ABX9TyMF5UbvKZL7lTWI3NJigEZQ",
      "include_colab_link": true
    },
    "kernelspec": {
      "name": "python3",
      "display_name": "Python 3"
    },
    "language_info": {
      "name": "python"
    }
  },
  "cells": [
    {
      "cell_type": "markdown",
      "metadata": {
        "id": "view-in-github",
        "colab_type": "text"
      },
      "source": [
        "<a href=\"https://colab.research.google.com/github/jana-i/Data-Science/blob/main/Summerize_any_text.ipynb\" target=\"_parent\"><img src=\"https://colab.research.google.com/assets/colab-badge.svg\" alt=\"Open In Colab\"/></a>"
      ]
    },
    {
      "cell_type": "code",
      "execution_count": 1,
      "metadata": {
        "id": "9UG_ItMtcLSM"
      },
      "outputs": [],
      "source": [
        "import nltk\n",
        "from nltk.tokenize import sent_tokenize\n",
        "from nltk.stem import PorterStemmer\n",
        "from nltk.corpus import stopwords\n",
        "from heapq import nlargest"
      ]
    },
    {
      "cell_type": "code",
      "source": [
        "nltk.download('stopwords')\n",
        "nltk.download('punkt')\n",
        "nltk.download('punkt_tab')"
      ],
      "metadata": {
        "colab": {
          "base_uri": "https://localhost:8080/"
        },
        "id": "6EDrpi6bc6Ho",
        "outputId": "3f53ca13-c7e2-4355-b6a7-250e6b025bb7"
      },
      "execution_count": 2,
      "outputs": [
        {
          "output_type": "stream",
          "name": "stderr",
          "text": [
            "[nltk_data] Downloading package stopwords to /root/nltk_data...\n",
            "[nltk_data]   Unzipping corpora/stopwords.zip.\n",
            "[nltk_data] Downloading package punkt to /root/nltk_data...\n",
            "[nltk_data]   Unzipping tokenizers/punkt.zip.\n",
            "[nltk_data] Downloading package punkt_tab to /root/nltk_data...\n",
            "[nltk_data]   Unzipping tokenizers/punkt_tab.zip.\n"
          ]
        },
        {
          "output_type": "execute_result",
          "data": {
            "text/plain": [
              "True"
            ]
          },
          "metadata": {},
          "execution_count": 2
        }
      ]
    },
    {
      "cell_type": "code",
      "source": [
        "text = \"\"\"\n",
        "  The quick brown fox jumps over the lazy dog.\n",
        "  The fox is running fast to catch its pray. Suddenly, it sees the pray and jumps over it.\n",
        "  The pray escapes and the fox continues to run.\n",
        "  The dog wakes up and barks at the fox.\n",
        "  The fox runs away and the dog goes back to sleep.\n",
        "\"\"\""
      ],
      "metadata": {
        "id": "GTjk-mkDdFK6"
      },
      "execution_count": 3,
      "outputs": []
    },
    {
      "cell_type": "code",
      "source": [
        "sentences = sent_tokenize(text)"
      ],
      "metadata": {
        "id": "J8Gvc41id3Uu"
      },
      "execution_count": null,
      "outputs": []
    },
    {
      "cell_type": "code",
      "source": [
        "stemmer = PorterStemmer()\n",
        "stop_words = set(stopwords.words('english'))\n",
        "words = []"
      ],
      "metadata": {
        "id": "PCsJzUXVeqsd"
      },
      "execution_count": 9,
      "outputs": []
    },
    {
      "cell_type": "code",
      "source": [
        "for sentence in sentences:\n",
        "  for word in nltk.word_tokenize(sentence):\n",
        "    if word not in stop_words and word.isalpha():\n",
        "      words.append(stemmer.stem(word))"
      ],
      "metadata": {
        "id": "QtEOHczqzAHg"
      },
      "execution_count": 10,
      "outputs": []
    },
    {
      "cell_type": "code",
      "source": [
        "freq_dist = nltk.FreqDist(words)"
      ],
      "metadata": {
        "id": "WJ4fddctzpce"
      },
      "execution_count": 11,
      "outputs": []
    },
    {
      "cell_type": "code",
      "source": [
        "#get the top 10 most frequent words in the text\n",
        "top_words = [word[0] for word in freq_dist.most_common(10)]\n",
        "#word[0] referse to each word element to each tuple"
      ],
      "metadata": {
        "id": "9-AmDncz4xI3"
      },
      "execution_count": 14,
      "outputs": []
    },
    {
      "cell_type": "code",
      "source": [
        "print(top_words)"
      ],
      "metadata": {
        "colab": {
          "base_uri": "https://localhost:8080/"
        },
        "id": "67Rj2MOc_Ail",
        "outputId": "c247608c-12c9-4f0e-a729-3e80811bbc4e"
      },
      "execution_count": 15,
      "outputs": [
        {
          "output_type": "stream",
          "name": "stdout",
          "text": [
            "['the', 'fox', 'dog', 'run', 'pray', 'jump', 'quick', 'brown', 'lazi', 'fast']\n"
          ]
        }
      ]
    },
    {
      "cell_type": "code",
      "source": [
        "#Create a summery by selecting the 3 sentences with the most frequent words\n",
        "summary = []\n",
        "for sentence in sentences:\n",
        "  sentence_words = nltk.word_tokenize(sentence.lower())\n",
        "  sentence_score = 0\n",
        "  for word in sentence_words:\n",
        "    if stemmer.stem(word) in top_words:\n",
        "     sentence_score += 1\n",
        "  summary.append((sentence,sentence_score))\n",
        "\n",
        "#Print the summery\n",
        "#we gonna get the top three sentences\n",
        "#lambdda to return the second element in the tuple\n",
        "for sentence in nlargest(3, summary, key=lambda x:x[1]):\n",
        "  print(sentence[0])"
      ],
      "metadata": {
        "colab": {
          "base_uri": "https://localhost:8080/"
        },
        "id": "vw26gNSi7rVt",
        "outputId": "4fdf8ebf-94de-48d8-a80a-d22e690a610d"
      },
      "execution_count": 17,
      "outputs": [
        {
          "output_type": "stream",
          "name": "stdout",
          "text": [
            "\n",
            "  The quick brown fox jumps over the lazy dog.\n",
            "The fox is running fast to catch its pray.\n",
            "The pray escapes and the fox continues to run.\n"
          ]
        }
      ]
    },
    {
      "cell_type": "code",
      "source": [],
      "metadata": {
        "id": "FHFOHErTAcQW"
      },
      "execution_count": null,
      "outputs": []
    }
  ]
}